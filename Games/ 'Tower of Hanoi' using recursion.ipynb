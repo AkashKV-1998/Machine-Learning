{
 "cells": [
  {
   "cell_type": "markdown",
   "metadata": {},
   "source": [
    "# To solve 'Tower of Hanoi' using recursion"
   ]
  },
  {
   "cell_type": "markdown",
   "metadata": {},
   "source": [
    "![Tower of Honai](https:/kenandeen.files.wordpress.com/2015/08/towers-of-hanoi.png)"
   ]
  },
  {
   "cell_type": "markdown",
   "metadata": {},
   "source": [
    "                                      Source pillar       Helper pillar    Destination pillar"
   ]
  },
  {
   "cell_type": "markdown",
   "metadata": {},
   "source": [
    "Let the number of disk $(n)$ be 3, and the first piller is source, middle piller is helper piller, and last pillar is destination pillar"
   ]
  },
  {
   "cell_type": "markdown",
   "metadata": {},
   "source": [
    "The objective is to move the entire disk to destination pillar, obeying the following rules:\n",
    "\n",
    "1) Only one disk can be moved at a time.\n",
    "\n",
    "2) Each move consists of taking the upper disk from one of the pillar and move to another pillar.\n",
    "\n",
    "3) No bigger disk may be placed on top of a smaller disk."
   ]
  },
  {
   "cell_type": "markdown",
   "metadata": {},
   "source": [
    "Now,"
   ]
  },
  {
   "cell_type": "markdown",
   "metadata": {},
   "source": [
    "When we consider only 3 disks on source pillar. We can complete the task within $2^3-1= 7$ moves"
   ]
  },
  {
   "cell_type": "markdown",
   "metadata": {},
   "source": [
    "Steps should be followed to move the disk from source pillar to destination pillar:\n",
    "\n",
    "Step 1 - Move top disk or smaller disk to destination pillar\n",
    "\n",
    "Step 2 - Move second disk or second largest disk to helper pillar\n",
    "\n",
    "Step 3 - Move the smaller disk from destination pillar to helper pillar\n",
    "\n",
    "Now, the bigger disk remains at source pillar and other disks is in helper pillar. When we consider n = 3 we can say that n-1 (i.e, 3-1 = 2) disks is moved to helper pillar.\n",
    "\n",
    "Step 4 - Move the bigger disk from source to destination pillar\n",
    "\n",
    "Step 5 - Now move the smaller disk from helper pillar to source pillar\n",
    "\n",
    "Step 6 - Move the second bigger disk from helper pillar to destination pillar \n",
    "\n",
    "Step 7 - Finally move smaller disk from source pillar to destination pillar\n",
    "\n",
    "\n",
    "So, Now the task is completed and by considering steps 5, 6 and 7 we can say that n-1 disk is moved to destination pillar"
   ]
  },
  {
   "cell_type": "markdown",
   "metadata": {},
   "source": [
    "### Recursive Algorithm for 'Tower of Hanoi':"
   ]
  },
  {
   "cell_type": "markdown",
   "metadata": {},
   "source": [
    "By understanding above steps we can write algorithm for recursion. They are:\n",
    "\n",
    "Step 1 - Move (n-1) disk to helper pillar\n",
    "\n",
    "Step 2 - Move bigger disk from source pillar to destination pilar\n",
    "\n",
    "Step 3 - Move (n-1) disk to destination pillar"
   ]
  },
  {
   "cell_type": "markdown",
   "metadata": {},
   "source": [
    "### PROGRAM:"
   ]
  },
  {
   "cell_type": "code",
   "execution_count": 1,
   "metadata": {},
   "outputs": [],
   "source": [
    "def Tower_of_hanoi(n , source_pillar, destination_pillar, helper_pillar):\n",
    "\n",
    "# Base case: If only one disk is in source pillar. Then we can directly move disk from source pillar to distination pillar\n",
    "\n",
    "    if n == 1: \n",
    "        \n",
    "        print (\"Move disk 1 from\", source_pillar,\"to\",destination_pillar)\n",
    "        return\n",
    "    \n",
    "# Or if there is no disk in source pillar:\n",
    "\n",
    "    elif n == 0:\n",
    "        print(\"No disk in Tower of Hanoi\")\n",
    "        return\n",
    "    \n",
    "    Tower_of_hanoi(n-1, source_pillar, helper_pillar, destination_pillar)  \n",
    "    print (\"Move disk\",n,\"from\", source_pillar,\"to\",destination_pillar)\n",
    "    Tower_of_hanoi(n-1, helper_pillar, destination_pillar, source_pillar)"
   ]
  },
  {
   "cell_type": "code",
   "execution_count": 2,
   "metadata": {},
   "outputs": [
    {
     "name": "stdout",
     "output_type": "stream",
     "text": [
      "Number of disk in Tower of Hanoi: 3\n",
      "\n",
      "Move disk 1 from source pillar to destination pillar\n",
      "Move disk 2 from source pillar to helper pillar\n",
      "Move disk 1 from destination pillar to helper pillar\n",
      "Move disk 3 from source pillar to destination pillar\n",
      "Move disk 1 from helper pillar to source pillar\n",
      "Move disk 2 from helper pillar to destination pillar\n",
      "Move disk 1 from source pillar to destination pillar\n",
      "\n",
      "Task Completed!\n"
     ]
    }
   ],
   "source": [
    "n = int(input(\"Number of disk in Tower of Hanoi: \"))\n",
    "\n",
    "print()\n",
    "Tower_of_hanoi(n, 'source pillar', 'destination pillar', 'helper pillar')\n",
    "print()\n",
    "print(\"Task Completed!\")"
   ]
  }
 ],
 "metadata": {
  "kernelspec": {
   "display_name": "Python 3",
   "language": "python",
   "name": "python3"
  },
  "language_info": {
   "codemirror_mode": {
    "name": "ipython",
    "version": 3
   },
   "file_extension": ".py",
   "mimetype": "text/x-python",
   "name": "python",
   "nbconvert_exporter": "python",
   "pygments_lexer": "ipython3",
   "version": "3.8.3"
  }
 },
 "nbformat": 4,
 "nbformat_minor": 4
}
