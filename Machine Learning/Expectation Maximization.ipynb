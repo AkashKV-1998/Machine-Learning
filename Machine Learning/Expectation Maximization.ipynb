{
 "cells": [
  {
   "cell_type": "markdown",
   "metadata": {},
   "source": [
    "#### Question 2:"
   ]
  },
  {
   "cell_type": "markdown",
   "metadata": {},
   "source": [
    "Write a program to implement expectation maximization algorithm to separate the samples from coin A and coin B that we have seen in the Lecture."
   ]
  },
  {
   "cell_type": "markdown",
   "metadata": {},
   "source": [
    "____ "
   ]
  },
  {
   "cell_type": "markdown",
   "metadata": {},
   "source": [
    "#### Solution:"
   ]
  },
  {
   "cell_type": "code",
   "execution_count": 1,
   "metadata": {},
   "outputs": [],
   "source": [
    "import numpy as np"
   ]
  },
  {
   "cell_type": "code",
   "execution_count": 2,
   "metadata": {},
   "outputs": [
    {
     "data": {
      "text/plain": [
       "array([[1, 0, 0, 0, 1, 1, 0, 1, 0, 1],\n",
       "       [1, 1, 1, 1, 0, 1, 1, 1, 1, 1],\n",
       "       [1, 0, 1, 1, 1, 1, 1, 0, 1, 1],\n",
       "       [1, 0, 1, 0, 0, 0, 1, 1, 0, 0],\n",
       "       [0, 1, 1, 1, 0, 1, 1, 1, 0, 1]])"
      ]
     },
     "execution_count": 2,
     "metadata": {},
     "output_type": "execute_result"
    }
   ],
   "source": [
    "Coins = np.array([[1, 0, 0, 0, 1, 1, 0, 1, 0, 1],\n",
    "                  [1, 1, 1, 1, 0, 1, 1, 1, 1, 1],\n",
    "                  [1, 0, 1, 1, 1, 1, 1, 0, 1, 1],\n",
    "                  [1, 0, 1, 0, 0, 0, 1, 1, 0, 0],\n",
    "                  [0, 1, 1, 1, 0, 1, 1, 1, 0, 1]])\n",
    "\n",
    "Coins"
   ]
  },
  {
   "cell_type": "code",
   "execution_count": 3,
   "metadata": {},
   "outputs": [
    {
     "data": {
      "text/plain": [
       "array([5, 9, 8, 4, 7])"
      ]
     },
     "execution_count": 3,
     "metadata": {},
     "output_type": "execute_result"
    }
   ],
   "source": [
    "Total = sum(Coins.T)\n",
    "Total"
   ]
  },
  {
   "cell_type": "code",
   "execution_count": 4,
   "metadata": {},
   "outputs": [],
   "source": [
    "def Expectation(Coins, Total):\n",
    "    \n",
    "    Ta = 0.4\n",
    "    Tb = 0.2\n",
    "\n",
    "    share_valueA = np.zeros([10, 2])\n",
    "    share_valueB = np.zeros([10, 2])\n",
    "\n",
    "    for i in range(1000):\n",
    "            for j in range(np.size(Coins, 0)):\n",
    "\n",
    "                LH_a = (Ta**Total[j]) * ((1-Ta)**(10-Total[j]))\n",
    "                LH_b = (Tb**Total[j]) * ((1-Tb)**(10-Total[j]))\n",
    "\n",
    "                nmlz_a = LH_a / (LH_a + LH_b)\n",
    "                nmlz_b = LH_b / (LH_a + LH_b)             # OR nmlz_b = 1 - nmlz_a \n",
    "\n",
    "                share_valueA[j, 0] = Total[j]*nmlz_a\n",
    "                share_valueA[j, 1] = (10 - Total[j])*nmlz_a\n",
    "\n",
    "                share_valueB[j, 0] = Total[j]*nmlz_b\n",
    "                share_valueB[j, 1] = (10 - Total[j])*nmlz_b\n",
    "                \n",
    "            Ta, Tb, OTa, OTb = Maximization(Ta, Tb, share_valueA, share_valueB)\n",
    "                \n",
    "            if (abs(Ta - OTa) < 0.01) and (abs(Tb - OTa) < 0.01):\n",
    "                break\n",
    "                \n",
    "    return Ta, Tb"
   ]
  },
  {
   "cell_type": "code",
   "execution_count": 5,
   "metadata": {},
   "outputs": [],
   "source": [
    "def Maximization(Ta, Tb, share_valueA, share_valueB):\n",
    "\n",
    "    TS_share_valueA = sum(share_valueA[:, 0])\n",
    "    TF_share_valueA = sum(share_valueA[:, 1])\n",
    "\n",
    "    TS_share_valueB = sum(share_valueB[:, 0])\n",
    "    TF_share_valueB = sum(share_valueB[:, 1])\n",
    "\n",
    "    OTa = Ta\n",
    "    OTb = Tb\n",
    "\n",
    "    Ta = TS_share_valueA / (TS_share_valueA + TF_share_valueA)\n",
    "    Tb = TS_share_valueB / (TS_share_valueB + TF_share_valueB)\n",
    "\n",
    "    return Ta, Tb, OTa, OTb"
   ]
  },
  {
   "cell_type": "code",
   "execution_count": 6,
   "metadata": {
    "scrolled": true
   },
   "outputs": [
    {
     "data": {
      "text/plain": [
       "(0.7967890669226468, 0.519583120145135)"
      ]
     },
     "execution_count": 6,
     "metadata": {},
     "output_type": "execute_result"
    }
   ],
   "source": [
    "Ta, Tb = Expectation(Coins, Total)\n",
    "Ta, Tb"
   ]
  },
  {
   "cell_type": "markdown",
   "metadata": {},
   "source": [
    "____"
   ]
  }
 ],
 "metadata": {
  "kernelspec": {
   "display_name": "Python 3",
   "language": "python",
   "name": "python3"
  },
  "language_info": {
   "codemirror_mode": {
    "name": "ipython",
    "version": 3
   },
   "file_extension": ".py",
   "mimetype": "text/x-python",
   "name": "python",
   "nbconvert_exporter": "python",
   "pygments_lexer": "ipython3",
   "version": "3.8.3"
  }
 },
 "nbformat": 4,
 "nbformat_minor": 4
}
